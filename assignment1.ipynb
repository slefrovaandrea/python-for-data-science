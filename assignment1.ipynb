{
 "cells": [
  {
   "metadata": {},
   "cell_type": "markdown",
   "source": [
    "# Assignment 1\n",
    "- deadline: 15.10.2025\n",
    "- you will learn: how to submit solutions\n",
    "- task: run all the cells below, add another cell where you print your GitHub username, commit and push the changes to your repository"
   ],
   "id": "d9f3166f05eb5272"
  },
  {
   "metadata": {
    "ExecuteTime": {
     "end_time": "2025-10-12T18:54:45.442354Z",
     "start_time": "2025-10-12T18:54:45.437778Z"
    }
   },
   "cell_type": "code",
   "source": "print(\"2+1 = \", 2+1)",
   "id": "172a7d5acb1aa308",
   "outputs": [
    {
     "name": "stdout",
     "output_type": "stream",
     "text": [
      "2+1 =  3\n"
     ]
    }
   ],
   "execution_count": 2
  },
  {
   "metadata": {
    "ExecuteTime": {
     "end_time": "2025-10-12T18:55:19.702918Z",
     "start_time": "2025-10-12T18:55:19.698816Z"
    }
   },
   "cell_type": "code",
   "source": "print(\"slefrovaandrea\")",
   "id": "42594122e8c588bf",
   "outputs": [
    {
     "name": "stdout",
     "output_type": "stream",
     "text": [
      "slefrovaandrea\n"
     ]
    }
   ],
   "execution_count": 4
  }
 ],
 "metadata": {
  "kernelspec": {
   "display_name": "Python 3",
   "language": "python",
   "name": "python3"
  },
  "language_info": {
   "codemirror_mode": {
    "name": "ipython",
    "version": 2
   },
   "file_extension": ".py",
   "mimetype": "text/x-python",
   "name": "python",
   "nbconvert_exporter": "python",
   "pygments_lexer": "ipython2",
   "version": "2.7.6"
  }
 },
 "nbformat": 4,
 "nbformat_minor": 5
}
