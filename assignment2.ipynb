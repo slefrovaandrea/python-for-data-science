{
 "cells": [
  {
   "metadata": {},
   "cell_type": "markdown",
   "source": [
    "# Assignment 2: NumPy\n",
    "- **you will learn:** how to create and manipulate NumPy arrays, perform vectorized computations, and use basic NumPy functions for data analysis\n",
    "- **task:**  See section 2.9 below\n",
    "- **deadline:** 20.10.2025\n",
    "- [NumPy documentation](https://numpy.org/doc/stable/)\n",
    "- 📝 **Reminder:** Sync your GitHub repository with the main course repository, update your project in PyCharm, and after completing the assignment, commit and push your changes back to GitHub.\n",
    "---"
   ],
   "id": "d9f3166f05eb5272"
  },
  {
   "metadata": {},
   "cell_type": "markdown",
   "source": [
    "## 2.0 PEP 8 and Code Commenting\n",
    "\n",
    "### What is PEP 8?\n",
    "**PEP 8** is the official **style guide** for Python code.\n",
    "It defines conventions that make your code **clean, consistent, and easy to read**.\n",
    "While not mandatory, following PEP 8 is considered a sign of **professional and readable coding**.\n",
    "\n",
    "### Some Important PEP 8 Rules\n",
    "- ✅ **Line length:** keep lines **under 79 characters**.\n",
    "- ✅ **Spacing:**\n",
    "  - add spaces around operators (`a + b`, not `a+b`)\n",
    "  - add a space **after** commas, not before (`[1, 2, 3]`, not `[1 ,2 ,3]`)\n",
    "- ✅ **Variable and function names:** use lowercase with underscores (`calculate_mean`, not `CalculateMean`).\n",
    "- ✅ **Class names:** use `CamelCase` (`DataProcessor`).\n",
    "- ✅ **Imports:** at the top of the file, one per line.\n",
    "- ✅ **Blank lines:** use two blank lines between functions.\n",
    "\n",
    " **Official guide:** [PEP 8 – Style Guide for Python Code](https://peps.python.org/pep-0008/)\n",
    "\n",
    "### Comments and Docstrings\n",
    "Comments explain **what** your code does and **why**.\n",
    "Every function should include a **docstring** — a text enclosed in triple quotes `\"\"\" ... \"\"\"` that briefly describes the function’s purpose, parameters, and return value.\n",
    "\n",
    "#### Example:\n",
    "\n",
    "```python\n",
    "def calculate_mean(values):\n",
    "    \"\"\"\n",
    "    Compute the arithmetic mean of a list of numbers.\n",
    "\n",
    "    Parameters\n",
    "    ----------\n",
    "    values : list of float\n",
    "        Input numbers.\n",
    "\n",
    "    Returns\n",
    "    -------\n",
    "    float\n",
    "        The arithmetic mean of the input values.\n",
    "    \"\"\"\n",
    "    if not values:\n",
    "        return 0.0\n",
    "    return sum(values) / len(values)\n",
    "\n"
   ],
   "id": "836a39339ef3e1b2"
  },
  {
   "metadata": {},
   "cell_type": "markdown",
   "source": [
    "---\n",
    "## 2.1 What is a NumPy Array?\n",
    "\n",
    "- In computer programming, an **array** is a structure for storing and retrieving data.\n",
    "- They are the foundation for **data science, machine learning, and scientific computing** in Python.\n",
    "- We often visualize an array as a **grid in space**, with each cell storing one element of data.\n",
    "- Arrays can be **1D (vectors), 2D (matrices), or higher-dimensional (tensors)**.\n",
    "\n",
    "Most NumPy arrays have some rules:\n",
    "\n",
    "1. **Homogeneous type:** All elements must be of the same data type.\n",
    "2. **Fixed size:** Once created, the total size cannot change.\n",
    "3. **Rectangular shape:** All rows (in 2D arrays) must have the same number of columns — no jagged arrays.\n",
    "\n",
    "When these conditions are met, NumPy can exploit them to make arrays:\n",
    "\n",
    "- **Faster** (optimized C loops under the hood)\n",
    "- **More memory efficient** (contiguous memory storage)\n",
    "- **More convenient to use** (vectorized operations without explicit loops)"
   ],
   "id": "f639726d8899fde6"
  },
  {
   "metadata": {
    "ExecuteTime": {
     "end_time": "2025-10-19T21:06:36.214590Z",
     "start_time": "2025-10-19T21:06:36.211152Z"
    }
   },
   "cell_type": "code",
   "source": [
    "import numpy as np\n",
    "print(np.__version__)"
   ],
   "id": "f826db36465b85f7",
   "outputs": [
    {
     "name": "stdout",
     "output_type": "stream",
     "text": [
      "2.3.3\n"
     ]
    }
   ],
   "execution_count": 109
  },
  {
   "metadata": {
    "ExecuteTime": {
     "end_time": "2025-10-19T21:06:36.278816Z",
     "start_time": "2025-10-19T21:06:36.267881Z"
    }
   },
   "cell_type": "code",
   "source": [
    "# Create 1D array (vector)\n",
    "vector = np.array([10, 20, 30, 40, 50])\n",
    "print(\"1D array (vector):\", vector)\n",
    "print(\"Shape:\", vector.shape, \"Dtype:\", vector.dtype)\n",
    "\n",
    "# Create 2D array (matrix)\n",
    "matrix = np.array([[1, 2, 3],\n",
    "                   [4, 5, 6],\n",
    "                   [7, 8, 9]])\n",
    "print(\"2D array (matrix):\\n\", matrix)\n",
    "print(\"Shape:\", matrix.shape, \"Dtype:\", matrix.dtype)\n",
    "\n",
    "# Vectorized operation: multiply all elements by 2 or square them\n",
    "matrix2 = 2 * matrix\n",
    "matrix_sq = matrix ** 2\n",
    "print(\"Matrix after multiplying by 2:\\n\", matrix2)\n",
    "print(\"Matrix after squaring by 2:\\n\", matrix_sq)"
   ],
   "id": "9449ad8688854fd7",
   "outputs": [
    {
     "name": "stdout",
     "output_type": "stream",
     "text": [
      "1D array (vector): [10 20 30 40 50]\n",
      "Shape: (5,) Dtype: int64\n",
      "2D array (matrix):\n",
      " [[1 2 3]\n",
      " [4 5 6]\n",
      " [7 8 9]]\n",
      "Shape: (3, 3) Dtype: int64\n",
      "Matrix after multiplying by 2:\n",
      " [[ 2  4  6]\n",
      " [ 8 10 12]\n",
      " [14 16 18]]\n",
      "Matrix after squaring by 2:\n",
      " [[ 1  4  9]\n",
      " [16 25 36]\n",
      " [49 64 81]]\n"
     ]
    }
   ],
   "execution_count": 110
  },
  {
   "metadata": {},
   "cell_type": "markdown",
   "source": [
    "---\n",
    "## 2.2 Constructing arrays\n",
    "\n",
    "There are several mechanisms for creating arrays. Among others:\n",
    "\n",
    "1. **Conversion from other Python structures**\n",
    "   Arrays can be created directly from existing **lists or tuples** using `np.array()`.\n",
    "   This is the most common and straightforward way to build an array from existing data."
   ],
   "id": "eed4398b6b513855"
  },
  {
   "metadata": {
    "ExecuteTime": {
     "end_time": "2025-10-19T21:06:36.330275Z",
     "start_time": "2025-10-19T21:06:36.324317Z"
    }
   },
   "cell_type": "code",
   "source": [
    "# Conversion from Python structures\n",
    "a = np.array([1, 2, 3, 4, 5])\n",
    "b= np.array(((1,0),(0,1)))\n",
    "c = np.array([([1,2],[2,1]), ([3,1],[1,3])])\n",
    "print(\"From list:\\n\", a)\n",
    "print(\"From tuples of tuples:\\n\", b)\n",
    "print(\"From list of tuples or lists:\\n\", c)"
   ],
   "id": "d7ffddc3c7734d22",
   "outputs": [
    {
     "name": "stdout",
     "output_type": "stream",
     "text": [
      "From list:\n",
      " [1 2 3 4 5]\n",
      "From tuples of tuples:\n",
      " [[1 0]\n",
      " [0 1]]\n",
      "From list of tuples or lists:\n",
      " [[[1 2]\n",
      "  [2 1]]\n",
      "\n",
      " [[3 1]\n",
      "  [1 3]]]\n"
     ]
    }
   ],
   "execution_count": 111
  },
  {
   "metadata": {},
   "cell_type": "markdown",
   "source": [
    "\n",
    "2. **NumPy array creation functions**\n",
    "   NumPy provides a set of **built-in constructors** such as `np.zeros`, `np.ones`, `np.arange`, and `np.linspace`\n",
    "   to generate arrays of a specific shape or with evenly spaced values."
   ],
   "id": "f223d4bc6eb455d8"
  },
  {
   "metadata": {
    "ExecuteTime": {
     "end_time": "2025-10-19T21:06:36.389187Z",
     "start_time": "2025-10-19T21:06:36.383516Z"
    }
   },
   "cell_type": "code",
   "source": [
    "# np.empty(shape, dtype)\n",
    "# Creates a new array *without initializing* its entries (values are arbitrary).\n",
    "arr_empty = np.empty((2,3), dtype=\"int32\")\n",
    "print(\"np.empty:\\n\", arr_empty)\n",
    "print(\"np.empty type:\", arr_empty.dtype)"
   ],
   "id": "d78709e6b0134289",
   "outputs": [
    {
     "name": "stdout",
     "output_type": "stream",
     "text": [
      "np.empty:\n",
      " [[ -927712936  1072938614 -1580547965]\n",
      " [ 1075230277  1628651599 -1071500349]]\n",
      "np.empty type: int32\n"
     ]
    }
   ],
   "execution_count": 112
  },
  {
   "metadata": {
    "ExecuteTime": {
     "end_time": "2025-10-19T21:06:36.450789Z",
     "start_time": "2025-10-19T21:06:36.445985Z"
    }
   },
   "cell_type": "code",
   "source": [
    "# np.identity(n)\n",
    "# Shortcut for creating a square identity matrix (ones on the main diagonal).\n",
    "arr_identity = np.identity(4)\n",
    "print(\"np.identity:\\n\", arr_identity)"
   ],
   "id": "fdd3dead89dab21f",
   "outputs": [
    {
     "name": "stdout",
     "output_type": "stream",
     "text": [
      "np.identity:\n",
      " [[1. 0. 0. 0.]\n",
      " [0. 1. 0. 0.]\n",
      " [0. 0. 1. 0.]\n",
      " [0. 0. 0. 1.]]\n"
     ]
    }
   ],
   "execution_count": 113
  },
  {
   "metadata": {
    "ExecuteTime": {
     "end_time": "2025-10-19T21:06:36.501147Z",
     "start_time": "2025-10-19T21:06:36.495907Z"
    }
   },
   "cell_type": "code",
   "source": [
    "# np.eye(N, M, k)\n",
    "# Creates a 2D array with ones on the main (or k-th) diagonal, zeros elsewhere.\n",
    "arr_eye = np.eye(4,4,-1)\n",
    "print(\"np.eye:\\n\", arr_eye)"
   ],
   "id": "7e9e5f7a324496d6",
   "outputs": [
    {
     "name": "stdout",
     "output_type": "stream",
     "text": [
      "np.eye:\n",
      " [[0. 0. 0. 0.]\n",
      " [1. 0. 0. 0.]\n",
      " [0. 1. 0. 0.]\n",
      " [0. 0. 1. 0.]]\n"
     ]
    }
   ],
   "execution_count": 114
  },
  {
   "metadata": {
    "ExecuteTime": {
     "end_time": "2025-10-19T21:06:36.553109Z",
     "start_time": "2025-10-19T21:06:36.548031Z"
    }
   },
   "cell_type": "code",
   "source": [
    "# np.ones(shape, dtype)\n",
    "# Creates an array of given shape filled with ones.\n",
    "arr_ones = np.ones((2, 4))\n",
    "print(\"np.ones:\\n\", arr_ones)"
   ],
   "id": "ecc36a2338ff3c43",
   "outputs": [
    {
     "name": "stdout",
     "output_type": "stream",
     "text": [
      "np.ones:\n",
      " [[1. 1. 1. 1.]\n",
      " [1. 1. 1. 1.]]\n"
     ]
    }
   ],
   "execution_count": 115
  },
  {
   "metadata": {
    "ExecuteTime": {
     "end_time": "2025-10-19T21:06:36.588521Z",
     "start_time": "2025-10-19T21:06:36.584445Z"
    }
   },
   "cell_type": "code",
   "source": [
    "# np.zeros(shape, dtype)\n",
    "# Creates an array filled with zeros.\n",
    "arr_zeros = np.zeros((3, 3))\n",
    "print(\"np.zeros:\\n\", arr_zeros)"
   ],
   "id": "34c08c3a6fb6ac86",
   "outputs": [
    {
     "name": "stdout",
     "output_type": "stream",
     "text": [
      "np.zeros:\n",
      " [[0. 0. 0.]\n",
      " [0. 0. 0.]\n",
      " [0. 0. 0.]]\n"
     ]
    }
   ],
   "execution_count": 116
  },
  {
   "metadata": {
    "ExecuteTime": {
     "end_time": "2025-10-19T21:06:36.624132Z",
     "start_time": "2025-10-19T21:06:36.618423Z"
    }
   },
   "cell_type": "code",
   "source": [
    "# np.full(shape, fill_value)\n",
    "# Creates an array filled with a specified constant value.\n",
    "arr_full = np.full((2, 3), fill_value=7)\n",
    "print(\"np.full:\\n\", arr_full)"
   ],
   "id": "6e109336811c8e5b",
   "outputs": [
    {
     "name": "stdout",
     "output_type": "stream",
     "text": [
      "np.full:\n",
      " [[7 7 7]\n",
      " [7 7 7]]\n"
     ]
    }
   ],
   "execution_count": 117
  },
  {
   "metadata": {
    "ExecuteTime": {
     "end_time": "2025-10-19T21:06:36.667221Z",
     "start_time": "2025-10-19T21:06:36.663142Z"
    }
   },
   "cell_type": "code",
   "source": [
    "# np.empty_like(prototype)\n",
    "# Creates an uninitialized array with the *same shape and dtype* as another array.\n",
    "prototype = np.array([[1, 2, 3], [4, 5, 6]], dtype=float)\n",
    "arr_zeros_like = np.zeros_like(prototype)\n",
    "print(\"np.empty_like:\\n\", arr_zeros_like)\n",
    "\n",
    "# Similarly with np.empty_like(a), np.zeros_like(a), np.full_like(a, fill_value)"
   ],
   "id": "73371815235e17fc",
   "outputs": [
    {
     "name": "stdout",
     "output_type": "stream",
     "text": [
      "np.empty_like:\n",
      " [[0. 0. 0.]\n",
      " [0. 0. 0.]]\n"
     ]
    }
   ],
   "execution_count": 118
  },
  {
   "metadata": {
    "ExecuteTime": {
     "end_time": "2025-10-19T21:06:36.704326Z",
     "start_time": "2025-10-19T21:06:36.699977Z"
    }
   },
   "cell_type": "code",
   "source": [
    "# np.arange([start,] stop[, step,][, dtype])\n",
    "# Returns evenly spaced values within a given interval.\n",
    "# Similar to Python's range(), but returns a NumPy array.\n",
    "arr_arange = np.arange(0, 10, 2, dtype=float)\n",
    "print(\"np.arange:\\n\", arr_arange)"
   ],
   "id": "669f79b46b4739ed",
   "outputs": [
    {
     "name": "stdout",
     "output_type": "stream",
     "text": [
      "np.arange:\n",
      " [0. 2. 4. 6. 8.]\n"
     ]
    }
   ],
   "execution_count": 119
  },
  {
   "metadata": {
    "ExecuteTime": {
     "end_time": "2025-10-19T21:06:36.739186Z",
     "start_time": "2025-10-19T21:06:36.733165Z"
    }
   },
   "cell_type": "code",
   "source": [
    "# np.linspace(start, stop[, num, endpoint])\n",
    "# Returns evenly spaced numbers over a specified interval.\n",
    "# Unlike arange, it lets you specify the number of samples.\n",
    "arr_linspace = np.linspace(0, 1, num=5)\n",
    "print(\"np.linspace:\\n\", arr_linspace)"
   ],
   "id": "14a81938b4951f3e",
   "outputs": [
    {
     "name": "stdout",
     "output_type": "stream",
     "text": [
      "np.linspace:\n",
      " [0.   0.25 0.5  0.75 1.  ]\n"
     ]
    }
   ],
   "execution_count": 120
  },
  {
   "metadata": {
    "ExecuteTime": {
     "end_time": "2025-10-19T21:06:36.766338Z",
     "start_time": "2025-10-19T21:06:36.761707Z"
    }
   },
   "cell_type": "code",
   "source": [
    "# np.diag(v[, k])\n",
    "# Construct a diagonal matrix from a 1D array, or extract a diagonal from a 2D array.\n",
    "v = np.array([1, 2, 3])\n",
    "arr_diag = np.diag(v)\n",
    "print(\"np.diag (construct from 1D):\\n\", arr_diag)"
   ],
   "id": "ce6247233767b152",
   "outputs": [
    {
     "name": "stdout",
     "output_type": "stream",
     "text": [
      "np.diag (construct from 1D):\n",
      " [[1 0 0]\n",
      " [0 2 0]\n",
      " [0 0 3]]\n"
     ]
    }
   ],
   "execution_count": 121
  },
  {
   "metadata": {
    "ExecuteTime": {
     "end_time": "2025-10-19T21:06:36.799539Z",
     "start_time": "2025-10-19T21:06:36.794441Z"
    }
   },
   "cell_type": "code",
   "source": [
    "# np.tril(m[, k])\n",
    "# Return the lower triangle of an array (elements above the k-th diagonal are zeroed).\n",
    "m = np.arange(1, 10).reshape(3, 3)\n",
    "arr_tril = np.tril(m)\n",
    "print(\"np.tril (lower triangle):\\n\", arr_tril)\n",
    "\n",
    "# similarly with np.triu(m[, k])"
   ],
   "id": "390f928f5621792f",
   "outputs": [
    {
     "name": "stdout",
     "output_type": "stream",
     "text": [
      "np.tril (lower triangle):\n",
      " [[1 0 0]\n",
      " [4 5 0]\n",
      " [7 8 9]]\n"
     ]
    }
   ],
   "execution_count": 122
  },
  {
   "metadata": {},
   "cell_type": "markdown",
   "source": [
    "\n",
    "3. **Replicating, joining, or mutating existing arrays**\n",
    "   Arrays can be **copied, concatenated, reshaped, or repeated** to create new ones.\n",
    "   For example, you can use `np.tile`, `np.concatenate`, or `reshape` for this purpose."
   ],
   "id": "560d0852690389d5"
  },
  {
   "metadata": {
    "ExecuteTime": {
     "end_time": "2025-10-19T21:06:36.825439Z",
     "start_time": "2025-10-19T21:06:36.821345Z"
    }
   },
   "cell_type": "code",
   "source": [
    "# np.reshape(a, newshape)\n",
    "# Changes the shape of an array without changing its data.\n",
    "a = np.arange(6)\n",
    "print(\"a:\\n\", a)\n",
    "reshaped = np.reshape(a, (3, 2))\n",
    "print(\"np.reshape:\\n\", reshaped)"
   ],
   "id": "6c72643ec73f7a04",
   "outputs": [
    {
     "name": "stdout",
     "output_type": "stream",
     "text": [
      "a:\n",
      " [0 1 2 3 4 5]\n",
      "np.reshape:\n",
      " [[0 1]\n",
      " [2 3]\n",
      " [4 5]]\n"
     ]
    }
   ],
   "execution_count": 123
  },
  {
   "metadata": {
    "ExecuteTime": {
     "end_time": "2025-10-19T21:06:36.857808Z",
     "start_time": "2025-10-19T21:06:36.853734Z"
    }
   },
   "cell_type": "code",
   "source": [
    "# a.flatten()\n",
    "# Flatten a multi-dimensional array into 1D.\n",
    "a2 = np.array([[1, 2], [3, 4]])\n",
    "print(\"a.flatten:\\n\", a2.flatten())"
   ],
   "id": "6f52ce66226a0913",
   "outputs": [
    {
     "name": "stdout",
     "output_type": "stream",
     "text": [
      "a.flatten:\n",
      " [1 2 3 4]\n"
     ]
    }
   ],
   "execution_count": 124
  },
  {
   "metadata": {
    "ExecuteTime": {
     "end_time": "2025-10-19T21:06:36.895979Z",
     "start_time": "2025-10-19T21:06:36.892508Z"
    }
   },
   "cell_type": "code",
   "source": [
    "# np.transpose(a) or a.T\n",
    "# Swaps axes, e.g., turns rows into columns.\n",
    "print(\"np.transpose:\\n\", np.transpose(a2))"
   ],
   "id": "12969da6ffbdfd26",
   "outputs": [
    {
     "name": "stdout",
     "output_type": "stream",
     "text": [
      "np.transpose:\n",
      " [[1 3]\n",
      " [2 4]]\n"
     ]
    }
   ],
   "execution_count": 125
  },
  {
   "metadata": {
    "ExecuteTime": {
     "end_time": "2025-10-19T21:06:36.933183Z",
     "start_time": "2025-10-19T21:06:36.928239Z"
    }
   },
   "cell_type": "code",
   "source": [
    "# np.swapaxes(a, axis1, axis2)\n",
    "# Swaps any two axes in a multi-dimensional array.\n",
    "a3 = np.arange(8).reshape(2, 2, 2)\n",
    "print(\"a3:\\n\", a3)\n",
    "print(\"np.swapaxes:\\n\", np.swapaxes(a3, 0, 2))"
   ],
   "id": "a511179c3330353f",
   "outputs": [
    {
     "name": "stdout",
     "output_type": "stream",
     "text": [
      "a3:\n",
      " [[[0 1]\n",
      "  [2 3]]\n",
      "\n",
      " [[4 5]\n",
      "  [6 7]]]\n",
      "np.swapaxes:\n",
      " [[[0 4]\n",
      "  [2 6]]\n",
      "\n",
      " [[1 5]\n",
      "  [3 7]]]\n"
     ]
    }
   ],
   "execution_count": 126
  },
  {
   "metadata": {
    "ExecuteTime": {
     "end_time": "2025-10-19T21:06:36.967293Z",
     "start_time": "2025-10-19T21:06:36.963182Z"
    }
   },
   "cell_type": "code",
   "source": [
    "# np.moveaxis(a, source, destination)\n",
    "# Moves a given axis to a new position.\n",
    "a4 = np.zeros((2, 3, 4))\n",
    "print(\"np.moveaxis shape:\", np.moveaxis(a4, 0, -1).shape)"
   ],
   "id": "1416a8532833229c",
   "outputs": [
    {
     "name": "stdout",
     "output_type": "stream",
     "text": [
      "np.moveaxis shape: (3, 4, 2)\n"
     ]
    }
   ],
   "execution_count": 127
  },
  {
   "metadata": {
    "ExecuteTime": {
     "end_time": "2025-10-19T21:06:37.001238Z",
     "start_time": "2025-10-19T21:06:36.996092Z"
    }
   },
   "cell_type": "code",
   "source": [
    "# np.squeeze(a)\n",
    "# Removes axes of length 1.\n",
    "a5 = np.zeros((1, 3, 1))\n",
    "print(\"a5:\\n\", a5)\n",
    "print(\"np.squeeze shape:\", np.squeeze(a5).shape)\n",
    "print(\"a5 squeezed:\\n\", np.squeeze(a5))"
   ],
   "id": "fe89ddd4c223e40e",
   "outputs": [
    {
     "name": "stdout",
     "output_type": "stream",
     "text": [
      "a5:\n",
      " [[[0.]\n",
      "  [0.]\n",
      "  [0.]]]\n",
      "np.squeeze shape: (3,)\n",
      "a5 squeezed:\n",
      " [0. 0. 0.]\n"
     ]
    }
   ],
   "execution_count": 128
  },
  {
   "metadata": {
    "ExecuteTime": {
     "end_time": "2025-10-19T21:06:37.034784Z",
     "start_time": "2025-10-19T21:06:37.029506Z"
    }
   },
   "cell_type": "code",
   "source": [
    "# np.expand_dims(a, axis)\n",
    "# Adds a new dimension (axis) to the array.\n",
    "a6 = np.array([1, 2, 3])\n",
    "print(\"np.expand_dims shape:\", np.expand_dims(a6, axis=0).shape)"
   ],
   "id": "3291832f447d37aa",
   "outputs": [
    {
     "name": "stdout",
     "output_type": "stream",
     "text": [
      "np.expand_dims shape: (1, 3)\n"
     ]
    }
   ],
   "execution_count": 129
  },
  {
   "metadata": {
    "ExecuteTime": {
     "end_time": "2025-10-19T21:06:37.067305Z",
     "start_time": "2025-10-19T21:06:37.062187Z"
    }
   },
   "cell_type": "code",
   "source": [
    "# np.concatenate((a1, a2, ...), axis)\n",
    "# Joins arrays along an existing axis.\n",
    "a7 = np.ones((2, 2))\n",
    "b7 = np.zeros((2, 2))\n",
    "print(\"np.concatenate:\\n\", np.concatenate((a7, b7), axis=1))"
   ],
   "id": "dfa0170e423b6c06",
   "outputs": [
    {
     "name": "stdout",
     "output_type": "stream",
     "text": [
      "np.concatenate:\n",
      " [[1. 1. 0. 0.]\n",
      " [1. 1. 0. 0.]]\n"
     ]
    }
   ],
   "execution_count": 130
  },
  {
   "metadata": {
    "ExecuteTime": {
     "end_time": "2025-10-19T21:06:37.101107Z",
     "start_time": "2025-10-19T21:06:37.095292Z"
    }
   },
   "cell_type": "code",
   "source": [
    "# np.stack((a1, a2, ...), axis)\n",
    "# Stacks arrays along a new axis.\n",
    "a8 = np.array([1, 2])\n",
    "b8 = np.array([3, 4])\n",
    "print(\"np.stack:\\n\", np.stack((a8, b8), axis=0))"
   ],
   "id": "afdff07c876803b3",
   "outputs": [
    {
     "name": "stdout",
     "output_type": "stream",
     "text": [
      "np.stack:\n",
      " [[1 2]\n",
      " [3 4]]\n"
     ]
    }
   ],
   "execution_count": 131
  },
  {
   "metadata": {
    "ExecuteTime": {
     "end_time": "2025-10-19T21:06:37.129985Z",
     "start_time": "2025-10-19T21:06:37.125576Z"
    }
   },
   "cell_type": "code",
   "source": [
    "# np.split(a, sections, axis)\n",
    "# Splits an array into multiple subarrays.\n",
    "x = np.arange(9)\n",
    "print(\"np.split:\\n\", np.split(x, 3))"
   ],
   "id": "7e1969d2c8e3e536",
   "outputs": [
    {
     "name": "stdout",
     "output_type": "stream",
     "text": [
      "np.split:\n",
      " [array([0, 1, 2]), array([3, 4, 5]), array([6, 7, 8])]\n"
     ]
    }
   ],
   "execution_count": 132
  },
  {
   "metadata": {
    "ExecuteTime": {
     "end_time": "2025-10-19T21:06:37.169672Z",
     "start_time": "2025-10-19T21:06:37.164552Z"
    }
   },
   "cell_type": "code",
   "source": [
    "# np.copy(a)\n",
    "# Creates a deep copy of the array (independent of the original).\n",
    "a11 = np.array([1, 2, 3])\n",
    "b11 = a11.copy()\n",
    "b11[0] = 99\n",
    "print(\"Original:\", a11, \" | Copy:\", b11)"
   ],
   "id": "549f87be717e0c68",
   "outputs": [
    {
     "name": "stdout",
     "output_type": "stream",
     "text": [
      "Original: [1 2 3]  | Copy: [99  2  3]\n"
     ]
    }
   ],
   "execution_count": 133
  },
  {
   "metadata": {
    "ExecuteTime": {
     "end_time": "2025-10-19T21:06:37.213206Z",
     "start_time": "2025-10-19T21:06:37.207776Z"
    }
   },
   "cell_type": "code",
   "source": [
    "# np.astype(dtype)\n",
    "# Converts array elements to a new type.\n",
    "a12 = np.array([1, 2, 3])\n",
    "print(\"astype to float:\\n\", a12.astype(float))"
   ],
   "id": "a6e2fbe50a50b41e",
   "outputs": [
    {
     "name": "stdout",
     "output_type": "stream",
     "text": [
      "astype to float:\n",
      " [1. 2. 3.]\n"
     ]
    }
   ],
   "execution_count": 134
  },
  {
   "metadata": {
    "ExecuteTime": {
     "end_time": "2025-10-19T21:06:37.262518Z",
     "start_time": "2025-10-19T21:06:37.258176Z"
    }
   },
   "cell_type": "code",
   "source": [
    "# np.clip(a, min, max)\n",
    "# Limits values to a given range.\n",
    "a13 = np.array([-1, 0, 2, 5])\n",
    "print(\"np.clip:\\n\", np.clip(a13, 0, 3))"
   ],
   "id": "2a265507d63f840",
   "outputs": [
    {
     "name": "stdout",
     "output_type": "stream",
     "text": [
      "np.clip:\n",
      " [0 0 2 3]\n"
     ]
    }
   ],
   "execution_count": 135
  },
  {
   "metadata": {
    "ExecuteTime": {
     "end_time": "2025-10-19T21:06:37.309090Z",
     "start_time": "2025-10-19T21:06:37.303561Z"
    }
   },
   "cell_type": "code",
   "source": [
    "# np.where(condition, x, y)\n",
    "# Selects elements based on a condition.\n",
    "a14 = np.array([1, 2, 3])\n",
    "print(\"np.where (a > 1 -> 100):\\n\", np.where(a14 > 1, 100, a14))"
   ],
   "id": "655944d6ee5d49c7",
   "outputs": [
    {
     "name": "stdout",
     "output_type": "stream",
     "text": [
      "np.where (a > 1 -> 100):\n",
      " [  1 100 100]\n"
     ]
    }
   ],
   "execution_count": 136
  },
  {
   "metadata": {},
   "cell_type": "markdown",
   "source": [
    "\n",
    "4. **Creating Arrays from Other Libraries**\n",
    "\n",
    "Many Python libraries — such as **SciPy**, **Pandas**, and **OpenCV** — use NumPy `ndarray` objects as a **common format for data exchange**.\n",
    "These libraries can **create**, **manipulate**, and **interoperate with** NumPy arrays directly.\n"
   ],
   "id": "a39594507e1a836a"
  },
  {
   "metadata": {},
   "cell_type": "markdown",
   "source": [
    "---\n",
    "## 2.3 Indexing arrays"
   ],
   "id": "c095658cbed35428"
  },
  {
   "metadata": {},
   "cell_type": "markdown",
   "source": "Note that Python indexes (unlike for example R) start from 0, not from 1.",
   "id": "af057b561b906e05"
  },
  {
   "metadata": {},
   "cell_type": "markdown",
   "source": "### Basic Indexing",
   "id": "395343aaf26987ba"
  },
  {
   "metadata": {
    "ExecuteTime": {
     "end_time": "2025-10-19T21:06:37.340094Z",
     "start_time": "2025-10-19T21:06:37.335882Z"
    }
   },
   "cell_type": "code",
   "source": [
    "# Create a 2D array for demonstration\n",
    "x = np.arange(1, 13).reshape(3, 4)\n",
    "print(\"Array x:\\n\", x)\n",
    "\n",
    "# 1. Single element indexing\n",
    "print(\"Single element x[1, 2]:\", x[1, 2])\n",
    "print(\"Same by chained indexing x[1][2]:\", x[1][2])"
   ],
   "id": "fe588aaa2cb62ffc",
   "outputs": [
    {
     "name": "stdout",
     "output_type": "stream",
     "text": [
      "Array x:\n",
      " [[ 1  2  3  4]\n",
      " [ 5  6  7  8]\n",
      " [ 9 10 11 12]]\n",
      "Single element x[1, 2]: 7\n",
      "Same by chained indexing x[1][2]: 7\n"
     ]
    }
   ],
   "execution_count": 137
  },
  {
   "metadata": {
    "ExecuteTime": {
     "end_time": "2025-10-19T21:06:37.375860Z",
     "start_time": "2025-10-19T21:06:37.371899Z"
    }
   },
   "cell_type": "code",
   "source": [
    "# 2. If fewer indices than dimensions, returns a subarray (view)\n",
    "print(\"x[0] returns first row (view):\", x[0])"
   ],
   "id": "7615f519beb291a1",
   "outputs": [
    {
     "name": "stdout",
     "output_type": "stream",
     "text": [
      "x[0] returns first row (view): [1 2 3 4]\n"
     ]
    }
   ],
   "execution_count": 138
  },
  {
   "metadata": {
    "ExecuteTime": {
     "end_time": "2025-10-19T21:06:37.419924Z",
     "start_time": "2025-10-19T21:06:37.415335Z"
    }
   },
   "cell_type": "code",
   "source": [
    "# 3. Slicing (rows, columns)\n",
    "print(\"x[0:2, 1:4] → rows 0 and 1, columns 1 to 3:\\n\", x[0:2, 1:4])"
   ],
   "id": "b6f293c0cdc6bd7f",
   "outputs": [
    {
     "name": "stdout",
     "output_type": "stream",
     "text": [
      "x[0:2, 1:4] → rows 0 and 1, columns 1 to 3:\n",
      " [[2 3 4]\n",
      " [6 7 8]]\n"
     ]
    }
   ],
   "execution_count": 139
  },
  {
   "metadata": {
    "ExecuteTime": {
     "end_time": "2025-10-19T21:06:37.453791Z",
     "start_time": "2025-10-19T21:06:37.450716Z"
    }
   },
   "cell_type": "code",
   "source": [
    "# 4. Striding with step (convention start:stop:step)\n",
    "print(\"x[:, ::2] → all rows, every second column:\\n\", x[:, ::2])"
   ],
   "id": "a3e44e2fbf01de17",
   "outputs": [
    {
     "name": "stdout",
     "output_type": "stream",
     "text": [
      "x[:, ::2] → all rows, every second column:\n",
      " [[ 1  3]\n",
      " [ 5  7]\n",
      " [ 9 11]]\n"
     ]
    }
   ],
   "execution_count": 140
  },
  {
   "metadata": {
    "ExecuteTime": {
     "end_time": "2025-10-19T21:06:37.488623Z",
     "start_time": "2025-10-19T21:06:37.484800Z"
    }
   },
   "cell_type": "code",
   "source": [
    "# 5. Using negative indices\n",
    "print(\"x[-1, -2]:\", x[-1, -2])  # last row, second-last column"
   ],
   "id": "98c46369ed246a0b",
   "outputs": [
    {
     "name": "stdout",
     "output_type": "stream",
     "text": [
      "x[-1, -2]: 11\n"
     ]
    }
   ],
   "execution_count": 141
  },
  {
   "metadata": {
    "ExecuteTime": {
     "end_time": "2025-10-19T21:06:37.519150Z",
     "start_time": "2025-10-19T21:06:37.514483Z"
    }
   },
   "cell_type": "code",
   "source": [
    "# 6. Ellipsis (`...`) and `newaxis` (alias None)\n",
    "# Ellipsis expands to as many \":\" as needed\n",
    "print(\"x[..., 2] → same as x[:, 2]:\", x[..., 2])\n",
    "\n",
    "# newaxis introduces a new dimension\n",
    "y = x[:, 1]  # shape (3,)\n",
    "y2 = x[:, 1, np.newaxis]  # shape (3,1)\n",
    "print(\"y shape:\", y.shape, \"   y2 shape:\", y2.shape)"
   ],
   "id": "5c07e59fccda7397",
   "outputs": [
    {
     "name": "stdout",
     "output_type": "stream",
     "text": [
      "x[..., 2] → same as x[:, 2]: [ 3  7 11]\n",
      "y shape: (3,)    y2 shape: (3, 1)\n"
     ]
    }
   ],
   "execution_count": 142
  },
  {
   "metadata": {},
   "cell_type": "markdown",
   "source": [
    "- All slicing operations produce views, not copies — they refer to the same underlying data.\n",
    "- Because of this, modifying a slice will affect the original array.\n",
    "- When using integer indexing (not slicing), you reduce a dimension.\n",
    "- : means “select all elements along this axis”.\n",
    "- ... is a convenient placeholder to fill in missing : for remaining axes."
   ],
   "id": "7c9700d74a9d0ca6"
  },
  {
   "metadata": {},
   "cell_type": "markdown",
   "source": "### Advanced Indexing",
   "id": "6badd678ca258696"
  },
  {
   "metadata": {
    "ExecuteTime": {
     "end_time": "2025-10-19T21:06:37.550717Z",
     "start_time": "2025-10-19T21:06:37.546313Z"
    }
   },
   "cell_type": "code",
   "source": [
    "x = np.arange(1, 13).reshape(3, 4)\n",
    "print(\"Array x:\\n\", x)\n",
    "\n",
    "# 1. Integer array indexing\n",
    "row_idx = [0, 2]\n",
    "col_idx = [1, 3]\n",
    "# Select elements (0,1) and (2,3)\n",
    "print(\"x[row_idx, col_idx]:\", x[row_idx, col_idx])\n",
    "\n",
    "# Equivalent as\n",
    "print(\"The same as:\", np.array([x[0,1],x[2,3]]))"
   ],
   "id": "dfd44a3583fe9b5d",
   "outputs": [
    {
     "name": "stdout",
     "output_type": "stream",
     "text": [
      "Array x:\n",
      " [[ 1  2  3  4]\n",
      " [ 5  6  7  8]\n",
      " [ 9 10 11 12]]\n",
      "x[row_idx, col_idx]: [ 2 12]\n",
      "The same as: [ 2 12]\n"
     ]
    }
   ],
   "execution_count": 143
  },
  {
   "metadata": {
    "ExecuteTime": {
     "end_time": "2025-10-19T21:06:37.581260Z",
     "start_time": "2025-10-19T21:06:37.576504Z"
    }
   },
   "cell_type": "code",
   "source": [
    "# 2. Broadcasting integer indices\n",
    "# If you supply fewer index arrays or scalars, they broadcast\n",
    "print(\"x[row_idx, 2]:\", x[row_idx, 2])\n",
    "print(\"The same as:\", x[[0,2], [2,2]])"
   ],
   "id": "2e01282e7b2dc228",
   "outputs": [
    {
     "name": "stdout",
     "output_type": "stream",
     "text": [
      "x[row_idx, 2]: [ 3 11]\n",
      "The same as: [ 3 11]\n"
     ]
    }
   ],
   "execution_count": 144
  },
  {
   "metadata": {
    "ExecuteTime": {
     "end_time": "2025-10-19T21:06:37.613640Z",
     "start_time": "2025-10-19T21:06:37.607187Z"
    }
   },
   "cell_type": "code",
   "source": [
    "# 3. Boolean masking (Boolean indexing)\n",
    "mask = x % 2 == 0  # True for even numbers\n",
    "print(\"Boolean mask:\\n\", mask)\n",
    "print(\"x[mask] → all even elements:\", x[mask])\n",
    "\n",
    "# Example modification using Boolean mask\n",
    "x2 = x.copy()\n",
    "x2[x2 % 2 == 1] = -1\n",
    "print(\"x2 with odd elements replaced by –1:\\n\", x2)"
   ],
   "id": "b3437a8fb58c4efa",
   "outputs": [
    {
     "name": "stdout",
     "output_type": "stream",
     "text": [
      "Boolean mask:\n",
      " [[False  True False  True]\n",
      " [False  True False  True]\n",
      " [False  True False  True]]\n",
      "x[mask] → all even elements: [ 2  4  6  8 10 12]\n",
      "x2 with odd elements replaced by –1:\n",
      " [[-1  2 -1  4]\n",
      " [-1  6 -1  8]\n",
      " [-1 10 -1 12]]\n"
     ]
    }
   ],
   "execution_count": 145
  },
  {
   "metadata": {
    "ExecuteTime": {
     "end_time": "2025-10-19T21:06:37.642011Z",
     "start_time": "2025-10-19T21:06:37.638582Z"
    }
   },
   "cell_type": "code",
   "source": [
    "# 4. Combining basic and advanced indexing\n",
    "# e.g. select rows 0 and 2, but columns 1:3\n",
    "print(\"x[[0, 2], 1:3]:\\n\", x[[0, 2], 1:3])"
   ],
   "id": "24ab23d2074f399d",
   "outputs": [
    {
     "name": "stdout",
     "output_type": "stream",
     "text": [
      "x[[0, 2], 1:3]:\n",
      " [[ 2  3]\n",
      " [10 11]]\n"
     ]
    }
   ],
   "execution_count": 146
  },
  {
   "metadata": {},
   "cell_type": "markdown",
   "source": [
    "---\n",
    "## 2.4 Array attributes\n",
    "\n",
    "- Every NumPy array is a Python object of class `numpy.ndarray`.\n",
    "- Besides storing the actual data, it also stores various attributes that describe its structure and memory layout."
   ],
   "id": "ec2840f9aa5bdd68"
  },
  {
   "metadata": {
    "ExecuteTime": {
     "end_time": "2025-10-19T21:06:37.672393Z",
     "start_time": "2025-10-19T21:06:37.668587Z"
    }
   },
   "cell_type": "code",
   "source": [
    "# Let's create a simple 2D array\n",
    "a = np.array([[1, 2, 3, 4],\n",
    "              [5, 6, 7, 8],\n",
    "              [9, 10, 11, 12]])\n",
    "\n",
    "print(\"Type of numpy array object:\", type(a))"
   ],
   "id": "b34842346a73237a",
   "outputs": [
    {
     "name": "stdout",
     "output_type": "stream",
     "text": [
      "Type of numpy array object: <class 'numpy.ndarray'>\n"
     ]
    }
   ],
   "execution_count": 147
  },
  {
   "metadata": {
    "ExecuteTime": {
     "end_time": "2025-10-19T21:06:37.703706Z",
     "start_time": "2025-10-19T21:06:37.698761Z"
    }
   },
   "cell_type": "code",
   "source": [
    "print(\"Number of dimensions (ndim):\", a.ndim)\n",
    "print(\"Shape (rows, columns):\", a.shape)\n",
    "print(\"Total number of elements (size):\", a.size)\n",
    "print(\"Data type (dtype):\", a.dtype)\n",
    "print(\"Size of one element in bytes (itemsize):\", a.itemsize)\n",
    "print(\"Total size in bytes (nbytes):\", a.nbytes)\n",
    "print(\"Transposed array (T):\\n\", a.T)"
   ],
   "id": "b35c323296e240e0",
   "outputs": [
    {
     "name": "stdout",
     "output_type": "stream",
     "text": [
      "Number of dimensions (ndim): 2\n",
      "Shape (rows, columns): (3, 4)\n",
      "Total number of elements (size): 12\n",
      "Data type (dtype): int64\n",
      "Size of one element in bytes (itemsize): 8\n",
      "Total size in bytes (nbytes): 96\n",
      "Transposed array (T):\n",
      " [[ 1  5  9]\n",
      " [ 2  6 10]\n",
      " [ 3  7 11]\n",
      " [ 4  8 12]]\n"
     ]
    }
   ],
   "execution_count": 148
  },
  {
   "metadata": {},
   "cell_type": "markdown",
   "source": [
    "Example explanation:\n",
    "- ndim   → tells how many axes (dimensions) the array has\n",
    "- shape  → gives the length of each dimension as a tuple\n",
    "- size   → total count of elements = product of shape entries\n",
    "- dtype  → data type of the elements (e.g. int32, float64)\n",
    "- itemsize → bytes per element, depends on dtype\n",
    "- nbytes   → total memory used by the array\n",
    "- T        → shorthand for the transposed view (rows <-> columns)\n"
   ],
   "id": "dfa4c7396c3a8a57"
  },
  {
   "metadata": {},
   "cell_type": "markdown",
   "source": [
    "---\n",
    "## 2.5 Array methods\n",
    "\n",
    "- A NumPy ndarray provides many built-in methods that operate on the array or return information about it. Most of these methods return a new array or a computed value derived from the data."
   ],
   "id": "b9e6f3602326c5a2"
  },
  {
   "metadata": {
    "ExecuteTime": {
     "end_time": "2025-10-19T21:06:37.733695Z",
     "start_time": "2025-10-19T21:06:37.729933Z"
    }
   },
   "cell_type": "code",
   "source": [
    "# Create a 2D array\n",
    "a = np.array([[1, 2, 3], [4, 5, 6]])\n",
    "\n",
    "# Reshape the array to 3 rows and 2 columns\n",
    "reshaped = a.reshape(3, 2)\n",
    "print(\"Reshaped array:\\n\", reshaped)\n",
    "\n",
    "# Flatten the array to 1D\n",
    "flattened = a.flatten()\n",
    "print(\"\\nFlattened array:\", flattened)"
   ],
   "id": "5a936f3ac91b1739",
   "outputs": [
    {
     "name": "stdout",
     "output_type": "stream",
     "text": [
      "Reshaped array:\n",
      " [[1 2]\n",
      " [3 4]\n",
      " [5 6]]\n",
      "\n",
      "Flattened array: [1 2 3 4 5 6]\n"
     ]
    }
   ],
   "execution_count": 149
  },
  {
   "metadata": {
    "ExecuteTime": {
     "end_time": "2025-10-19T21:06:37.765021Z",
     "start_time": "2025-10-19T21:06:37.760853Z"
    }
   },
   "cell_type": "code",
   "source": [
    "# --- Max and Min ---\n",
    "print(\"Max element:\", a.max())                  # ndarray.max()\n",
    "print(\"Index of max (flattened):\", a.argmax())  # ndarray.argmax()\n",
    "print(\"Min element:\", a.min())                  # ndarray.min()\n",
    "print(\"Index of min (flattened):\", a.argmin())  # ndarray.argmin()"
   ],
   "id": "11e7eda086d3efc5",
   "outputs": [
    {
     "name": "stdout",
     "output_type": "stream",
     "text": [
      "Max element: 6\n",
      "Index of max (flattened): 5\n",
      "Min element: 1\n",
      "Index of min (flattened): 0\n"
     ]
    }
   ],
   "execution_count": 150
  },
  {
   "metadata": {
    "ExecuteTime": {
     "end_time": "2025-10-19T21:06:37.797950Z",
     "start_time": "2025-10-19T21:06:37.793291Z"
    }
   },
   "cell_type": "code",
   "source": [
    "# --- Rounding ---\n",
    "arr_float = np.array([[1.234, 2.567], [3.891, 4.456]])\n",
    "rounded = arr_float.round(1)             # Round to 1 decimal\n",
    "print(\"Rounded array:\\n\", rounded)"
   ],
   "id": "d6de26ada6300b70",
   "outputs": [
    {
     "name": "stdout",
     "output_type": "stream",
     "text": [
      "Rounded array:\n",
      " [[1.2 2.6]\n",
      " [3.9 4.5]]\n"
     ]
    }
   ],
   "execution_count": 151
  },
  {
   "metadata": {
    "ExecuteTime": {
     "end_time": "2025-10-19T21:06:37.852609Z",
     "start_time": "2025-10-19T21:06:37.848747Z"
    }
   },
   "cell_type": "code",
   "source": [
    "# --- Trace ---\n",
    "print(\"Trace (sum of diagonal):\", a.trace())  # Sum along main diagonal"
   ],
   "id": "295bffa74f875540",
   "outputs": [
    {
     "name": "stdout",
     "output_type": "stream",
     "text": [
      "Trace (sum of diagonal): 6\n"
     ]
    }
   ],
   "execution_count": 152
  },
  {
   "metadata": {
    "ExecuteTime": {
     "end_time": "2025-10-19T21:06:37.898297Z",
     "start_time": "2025-10-19T21:06:37.893680Z"
    }
   },
   "cell_type": "code",
   "source": [
    "# --- Sum, Cumsum, Mean ---\n",
    "print(\"Sum of all elements:\", a.sum())\n",
    "print(\"Cumulative sum along rows:\\n\", a.cumsum(axis=1))\n",
    "print(\"Mean along columns:\", a.mean(axis=0))"
   ],
   "id": "700d744eaf72f44b",
   "outputs": [
    {
     "name": "stdout",
     "output_type": "stream",
     "text": [
      "Sum of all elements: 21\n",
      "Cumulative sum along rows:\n",
      " [[ 1  3  6]\n",
      " [ 4  9 15]]\n",
      "Mean along columns: [2.5 3.5 4.5]\n"
     ]
    }
   ],
   "execution_count": 153
  },
  {
   "metadata": {
    "ExecuteTime": {
     "end_time": "2025-10-19T21:06:37.947651Z",
     "start_time": "2025-10-19T21:06:37.943538Z"
    }
   },
   "cell_type": "code",
   "source": [
    "# --- Variance and Standard Deviation ---\n",
    "print(\"Variance of all elements:\", a.var())\n",
    "print(\"Standard deviation:\", a.std())"
   ],
   "id": "513404c19cf54d86",
   "outputs": [
    {
     "name": "stdout",
     "output_type": "stream",
     "text": [
      "Variance of all elements: 2.9166666666666665\n",
      "Standard deviation: 1.707825127659933\n"
     ]
    }
   ],
   "execution_count": 154
  },
  {
   "metadata": {
    "ExecuteTime": {
     "end_time": "2025-10-19T21:06:37.990283Z",
     "start_time": "2025-10-19T21:06:37.986191Z"
    }
   },
   "cell_type": "code",
   "source": [
    "# --- Logical checks ---\n",
    "print(\"All elements > 0?\", (a > 0).all())\n",
    "print(\"Any element > 5?\", (a > 5).any())"
   ],
   "id": "e97c3164b8cde35c",
   "outputs": [
    {
     "name": "stdout",
     "output_type": "stream",
     "text": [
      "All elements > 0? True\n",
      "Any element > 5? True\n"
     ]
    }
   ],
   "execution_count": 155
  },
  {
   "metadata": {},
   "cell_type": "markdown",
   "source": [
    "---\n",
    "## 2.6 Arithmetic and linear algebra\n"
   ],
   "id": "7c42182120b48203"
  },
  {
   "metadata": {
    "ExecuteTime": {
     "end_time": "2025-10-19T21:06:38.028536Z",
     "start_time": "2025-10-19T21:06:38.022355Z"
    }
   },
   "cell_type": "code",
   "source": [
    "# Create example arrays\n",
    "a = np.array([[1, 2], [3, 4]])\n",
    "b = np.array([[5, 6], [7, 8]])\n",
    "\n",
    "print(\"Array a:\\n\", a)\n",
    "print(\"Array b:\\n\", b)\n"
   ],
   "id": "9817527bcfd9b6d8",
   "outputs": [
    {
     "name": "stdout",
     "output_type": "stream",
     "text": [
      "Array a:\n",
      " [[1 2]\n",
      " [3 4]]\n",
      "Array b:\n",
      " [[5 6]\n",
      " [7 8]]\n"
     ]
    }
   ],
   "execution_count": 156
  },
  {
   "metadata": {
    "ExecuteTime": {
     "end_time": "2025-10-19T21:06:38.060703Z",
     "start_time": "2025-10-19T21:06:38.055355Z"
    }
   },
   "cell_type": "code",
   "source": [
    "# Addition (elementwise)\n",
    "print(\"Addition (a + b):\\n\", a + b)\n",
    "\n",
    "# Subtraction (elementwise)\n",
    "print(\"Subtraction (a - b):\\n\", a - b)\n",
    "\n",
    "# Multiplication (elementwise)\n",
    "print(\"Elementwise multiplication (a * b):\\n\", a * b)\n",
    "\n",
    "# Division (elementwise)\n",
    "print(\"Elementwise division (a / b):\\n\", a / b)\n",
    "\n",
    "# Exponentiation (elementwise)\n",
    "print(\"Elementwise power (a ** 2):\\n\", a ** 2)\n",
    "\n",
    "# Modulo (elementwise)\n",
    "print(\"Elementwise modulo (b % a):\\n\", b % a)"
   ],
   "id": "e80d6deeb1172623",
   "outputs": [
    {
     "name": "stdout",
     "output_type": "stream",
     "text": [
      "Addition (a + b):\n",
      " [[ 6  8]\n",
      " [10 12]]\n",
      "Subtraction (a - b):\n",
      " [[-4 -4]\n",
      " [-4 -4]]\n",
      "Elementwise multiplication (a * b):\n",
      " [[ 5 12]\n",
      " [21 32]]\n",
      "Elementwise division (a / b):\n",
      " [[0.2        0.33333333]\n",
      " [0.42857143 0.5       ]]\n",
      "Elementwise power (a ** 2):\n",
      " [[ 1  4]\n",
      " [ 9 16]]\n",
      "Elementwise modulo (b % a):\n",
      " [[0 0]\n",
      " [1 0]]\n"
     ]
    }
   ],
   "execution_count": 157
  },
  {
   "metadata": {
    "ExecuteTime": {
     "end_time": "2025-10-19T21:06:38.115927Z",
     "start_time": "2025-10-19T21:06:38.089058Z"
    }
   },
   "cell_type": "code",
   "source": [
    "# Matrix multiplication\n",
    "matmul = a @ b  # or np.matmul(a, b)\n",
    "print(\"Matrix multiplication (a @ b):\\n\", matmul)\n",
    "\n",
    "# Dot product\n",
    "dot = np.dot(a[0], b[0])\n",
    "print(\"Dot product (np.dot(a[0], b[0])):\\n\", dot)\n",
    "\n",
    "# Transpose\n",
    "print(\"Transpose of a (a.T):\\n\", a.T)\n",
    "\n",
    "# Determinant\n",
    "det = np.linalg.det(a)\n",
    "print(\"Determinant of a:\", det)\n",
    "\n",
    "# Inverse\n",
    "inv = np.linalg.inv(a)\n",
    "print(\"Inverse of a:\\n\", inv)\n",
    "\n",
    "# Eigenvalues and eigenvectors\n",
    "eigvals, eigvecs = np.linalg.eig(a)\n",
    "print(\"Eigenvalues of a:\", eigvals)\n",
    "print(\"Eigenvectors of a:\\n\", eigvecs)\n",
    "\n",
    "# Norms\n",
    "norm_a0 = np.linalg.norm(a[0])\n",
    "print(\"Frobenius norm of a[0]:\", norm_a0)"
   ],
   "id": "bcb1864cd144ae",
   "outputs": [
    {
     "name": "stdout",
     "output_type": "stream",
     "text": [
      "Matrix multiplication (a @ b):\n",
      " [[19 22]\n",
      " [43 50]]\n",
      "Dot product (np.dot(a[0], b[0])):\n",
      " 17\n",
      "Transpose of a (a.T):\n",
      " [[1 3]\n",
      " [2 4]]\n",
      "Determinant of a: -2.0000000000000004\n",
      "Inverse of a:\n",
      " [[-2.   1. ]\n",
      " [ 1.5 -0.5]]\n",
      "Eigenvalues of a: [-0.37228132  5.37228132]\n",
      "Eigenvectors of a:\n",
      " [[-0.82456484 -0.41597356]\n",
      " [ 0.56576746 -0.90937671]]\n",
      "Frobenius norm of a[0]: 2.23606797749979\n"
     ]
    }
   ],
   "execution_count": 158
  },
  {
   "metadata": {},
   "cell_type": "markdown",
   "source": [
    "---\n",
    "## 2.7 Miscellaneous"
   ],
   "id": "34e8ef6774f9f33b"
  },
  {
   "metadata": {},
   "cell_type": "markdown",
   "source": "**NumPy** provides optimized **mathematical functions** that work directly on entire arrays (`np.array` objects). These functions are implemented in **compiled C code**, which makes them **very fast**. They automatically apply the operation **elementwise** to all elements in the array — this is called **vectorization**.",
   "id": "63040b8ed22d0802"
  },
  {
   "metadata": {
    "ExecuteTime": {
     "end_time": "2025-10-19T21:06:38.144249Z",
     "start_time": "2025-10-19T21:06:38.140306Z"
    }
   },
   "cell_type": "code",
   "source": [
    "# These are elementwise functions that operate efficiently on ndarrays.\n",
    "\n",
    "# Create an example array\n",
    "a = np.array([0, np.pi/4, np.pi/2, np.pi])\n",
    "print(\"Array a:\\n\", a)\n",
    "\n",
    "# Elementwise trigonometric functions\n",
    "print(\"sin(a):\", np.sin(a))"
   ],
   "id": "d953338247784bf",
   "outputs": [
    {
     "name": "stdout",
     "output_type": "stream",
     "text": [
      "Array a:\n",
      " [0.         0.78539816 1.57079633 3.14159265]\n",
      "sin(a): [0.00000000e+00 7.07106781e-01 1.00000000e+00 1.22464680e-16]\n"
     ]
    }
   ],
   "execution_count": 159
  },
  {
   "metadata": {
    "ExecuteTime": {
     "end_time": "2025-10-19T21:06:38.181222Z",
     "start_time": "2025-10-19T21:06:38.173413Z"
    }
   },
   "cell_type": "code",
   "source": [
    "b = np.array([1, 2, 3, 4])\n",
    "print(\"Array b:\\n\", b)\n",
    "\n",
    "# Exponential\n",
    "print(\"Exponential (e^b):\", np.exp(b))\n",
    "\n",
    "# Logarithms\n",
    "print(\"Natural log (ln(b)):\", np.log(b))\n",
    "print(\"Log base 10:\", np.log10(b))\n",
    "\n",
    "# Power\n",
    "print(\"b cubed:\", np.power(b, 3))\n",
    "c = np.array([1.234, 5.678, -9.1011])\n",
    "\n",
    "# Round to nearest integer\n",
    "print(\"Rounded:\", np.round(c))\n",
    "\n",
    "# Floor and ceiling\n",
    "print(\"Floor:\", np.floor(c))\n",
    "print(\"Ceil:\", np.ceil(c))\n",
    "\n",
    "# Absolute values\n",
    "print(\"Absolute values:\", np.abs(c))\n",
    "d = np.array([1, 2, 3, 4, 5])\n",
    "\n",
    "# Sum/product\n",
    "print(\"Sum:\", np.sum(d))\n",
    "print(\"Product:\", np.prod(d))"
   ],
   "id": "c0321d1a10da90b2",
   "outputs": [
    {
     "name": "stdout",
     "output_type": "stream",
     "text": [
      "Array b:\n",
      " [1 2 3 4]\n",
      "Exponential (e^b): [ 2.71828183  7.3890561  20.08553692 54.59815003]\n",
      "Natural log (ln(b)): [0.         0.69314718 1.09861229 1.38629436]\n",
      "Log base 10: [0.         0.30103    0.47712125 0.60205999]\n",
      "b cubed: [ 1  8 27 64]\n",
      "Rounded: [ 1.  6. -9.]\n",
      "Floor: [  1.   5. -10.]\n",
      "Ceil: [ 2.  6. -9.]\n",
      "Absolute values: [1.234  5.678  9.1011]\n",
      "Sum: 15\n",
      "Product: 120\n"
     ]
    }
   ],
   "execution_count": 160
  },
  {
   "metadata": {
    "ExecuteTime": {
     "end_time": "2025-10-05T16:52:24.663073Z",
     "start_time": "2025-10-05T16:52:24.650415Z"
    }
   },
   "cell_type": "markdown",
   "source": [
    "---\n",
    "## 2.8 Python lists vs NumPy arrays\n",
    "\n",
    "Python lists are flexible but **slow and memory-inefficient** for numerical computations.\n",
    "NumPy arrays (`ndarray`) store data in **contiguous memory** and support **vectorized operations**, making them much faster and smaller in memory footprint.\n",
    "\n",
    "Let's compare both in terms of **execution speed** and **memory usage**."
   ],
   "id": "fdc7d204dbd8c0b8"
  },
  {
   "metadata": {
    "ExecuteTime": {
     "end_time": "2025-10-19T21:06:38.732553Z",
     "start_time": "2025-10-19T21:06:38.206377Z"
    }
   },
   "cell_type": "code",
   "source": [
    "import time, sys\n",
    "\n",
    "# Create a large list and a NumPy array\n",
    "n = 1_000_000\n",
    "py_list = list(range(n))\n",
    "np_array = np.arange(n)\n",
    "\n",
    "# Compare memory usage of both objects\n",
    "list_mem = sys.getsizeof(py_list) + sum(sys.getsizeof(x) for x in py_list)\n",
    "array_mem = np_array.nbytes\n",
    "print(f\"Python list memory: {list_mem / 1e6:.2f} MB\")\n",
    "print(f\"NumPy array memory: {array_mem / 1e6:.2f} MB\")\n",
    "print(f\"Memory ratio (list / array): {list_mem / array_mem:.1f}×\")\n",
    "\n",
    "# Compute 2x Python list\n",
    "list_start = time.time()\n",
    "list_result = [x * 2 for x in py_list]\n",
    "list_end = time.time()\n",
    "print(f\"Python list time: {list_end - list_start:.5f} s\")\n",
    "\n",
    "# Compute 2x NumPy array\n",
    "array_start = time.time()\n",
    "array_result = np_array * 2\n",
    "array_end = time.time()\n",
    "print(f\"NumPy array time: {array_end - array_start:.5f} s\")\n",
    "print(f\"Execution speed ratio (list / array): {(list_end - list_start) / (array_end - array_start):.1f}×\")"
   ],
   "id": "a52bd6ebbaba5e3d",
   "outputs": [
    {
     "name": "stdout",
     "output_type": "stream",
     "text": [
      "Python list memory: 36.00 MB\n",
      "NumPy array memory: 8.00 MB\n",
      "Memory ratio (list / array): 4.5×\n",
      "Python list time: 0.19163 s\n",
      "NumPy array time: 0.00252 s\n",
      "Execution speed ratio (list / array): 75.9×\n"
     ]
    }
   ],
   "execution_count": 161
  },
  {
   "metadata": {},
   "cell_type": "markdown",
   "source": [
    "**Observation:**\n",
    "\n",
    "- NumPy operations are much faster because they run in optimized C loops rather than Python loops.\n",
    "- NumPy arrays use far less memory because all elements share the same data type and they are stored in an efficient way\n",
    "\n",
    "➡️ This demonstrates the two biggest advantages of NumPy:\n",
    "1. **Vectorization** (no explicit loops)\n",
    "2. **Efficient memory representation**"
   ],
   "id": "740be24bfb152f1e"
  },
  {
   "metadata": {},
   "cell_type": "markdown",
   "source": [
    "---\n",
    "## 2.9  🏠 Homework: NumPy Arrays in Data Science\n",
    "\n",
    "### Task Overview\n",
    "In this assignment, you will practice working with **NumPy arrays** and **mathematical functions** to perform a mini data analysis. You will simulate a small part of a **data preprocessing pipeline** — a common step in data science when dealing with multivariate datasets.\n",
    "\n",
    "### Your Task\n",
    "\n",
    "1. **Generate synthetic data:**\n",
    "   - Create a NumPy array `data` of shape **(100, 10)** — representing 100 samples and 10 features.\n",
    "   - The values should be drawn from a **normal distribution** with mean = 50 and standard deviation = 10 using\n",
    "      `np.random.normal(loc=50, scale=10, size=(100, 10))`.\n",
    "   - Print the shape, data type, and the **first 5 rows** of the array.\n",
    "\n",
    "2. **Data cleaning:**\n",
    "   - Replace all values **smaller than 20** or **larger than 80** with `np.nan` (treat them as outliers).\n",
    "   - Print how many `np.nan` values are now in the array.\n",
    "\n",
    "3. **Handle missing values:**\n",
    "   - Compute the **mean of each column** ignoring missing values (`np.nanmean`).\n",
    "   - Replace all `np.nan` values in each column with that column’s mean.\n",
    "\n",
    "4. **Data transformation:**\n",
    "   - **Standardize each column** so that it has mean 0 and standard deviation 1.\n",
    "   - Create a new array where:\n",
    "     - all positive standardized values are replaced with their **square roots**,\n",
    "     - negative values remain unchanged.\n",
    "   - For the first 5 rows, also compute the **exponential (`np.exp`)** of all standardized values and print the result.\n",
    "\n",
    "5. **Array indexing and logical operations:**\n",
    "   - Compute the **75th percentile** for each column.\n",
    "   - Create a Boolean mask that marks all values above the 75th percentile.\n",
    "   - Print how many such “high” values there are in total.\n",
    "   - Replace all values **below the 25th percentile** (computed column-wise) with the 25th percentile value (a simple form of *winsorization*).\n",
    "\n",
    "6. **Descriptive statistics:**\n",
    "   - Compute and print for the final cleaned dataset:\n",
    "     - column-wise **mean**, **median**, **variance**, and **standard deviation**,\n",
    "     - the **overall mean** of the entire array,\n",
    "     - and the **minimum and maximum** values per column.\n",
    "\n",
    "### ✍️ Hints\n",
    "- Use functions such as `np.mean`, `np.std`, `np.nanmean`, `np.isnan`, `np.where`, `np.percentile`, `np.sqrt`, and `np.exp`.\n",
    "- Remember to specify the `axis` argument when computing column-wise statistics (`axis=0`).\n",
    "- Use **vectorized operations** — avoid `for` loops.\n",
    "- Include **comments or docstrings** to make your code clear and readable.\n"
   ],
   "id": "e8feb0514d3defb9"
  },
  {
   "metadata": {},
   "cell_type": "markdown",
   "source": [
    "---\n",
    "## Your solution:"
   ],
   "id": "fdc89ef6b5f4c40a"
  },
  {
   "metadata": {
    "ExecuteTime": {
     "end_time": "2025-10-19T21:06:38.756232Z",
     "start_time": "2025-10-19T21:06:38.746929Z"
    }
   },
   "cell_type": "code",
   "source": [
    "print(\"1.\")\n",
    "data=np.random.normal(loc=50,scale=10,size=(100,10))\n",
    "print(\"Shape:\",data.shape)\n",
    "print(\"Type:\",data.dtype)\n",
    "print(\"First five rows:\\n\",data[0:5])"
   ],
   "id": "85b1621599962048",
   "outputs": [
    {
     "name": "stdout",
     "output_type": "stream",
     "text": [
      "1.\n",
      "Shape: (100, 10)\n",
      "Type: float64\n",
      "First five rows:\n",
      " [[51.63602919 37.4629132  55.0213923  53.2155334  59.82802455 54.60882166\n",
      "  60.70346354 57.4362332  52.24426814 56.0417228 ]\n",
      " [55.08215316 45.73857273 46.93229099 68.3426853  48.43658044 32.69406496\n",
      "  72.93964536 50.40528177 51.25197513 55.40664986]\n",
      " [27.51838311 45.30547906 39.29863552 47.44759115 52.4391497  70.79068495\n",
      "  59.97182629 47.57876042 53.29021762 57.89869308]\n",
      " [61.14409016 36.91228306 50.90902059 61.36322642 55.65979657 41.76294667\n",
      "  42.14028168 41.70538179 38.50573006 59.37397981]\n",
      " [73.89252515 37.3830113  52.81080336 47.59678001 49.24250152 47.80756406\n",
      "  40.69909672 39.7811     50.03604267 53.67502086]]\n"
     ]
    }
   ],
   "execution_count": 162
  },
  {
   "metadata": {
    "ExecuteTime": {
     "end_time": "2025-10-19T21:06:38.785242Z",
     "start_time": "2025-10-19T21:06:38.780955Z"
    }
   },
   "cell_type": "code",
   "source": [
    "print(\"2.\")\n",
    "data1=np.where(data >= 20, data, np.nan)    #selects elements greater or equal to 20 and keeps them as they are otherwise changes them to np.nan\n",
    "data2=np.where(data1 <= 80, data1, np.nan)     #selects elements less then or equal to 80 and keeps them as they are otherwise changes them to np.nan\n",
    "print(\"Number of np.nan:\", np.sum(np.isnan(data2))) #determines if element is np.nan and sums up how many true values there are"
   ],
   "id": "f3602c1df70a84db",
   "outputs": [
    {
     "name": "stdout",
     "output_type": "stream",
     "text": [
      "2.\n",
      "Number of np.nan: 6\n"
     ]
    }
   ],
   "execution_count": 163
  },
  {
   "metadata": {
    "ExecuteTime": {
     "end_time": "2025-10-19T21:06:38.821442Z",
     "start_time": "2025-10-19T21:06:38.816750Z"
    }
   },
   "cell_type": "code",
   "source": [
    "print(\"3.\")\n",
    "mean=np.nanmean(data2, axis=0) #mean columnwise\n",
    "print(\"Mean:\", mean)\n",
    "data3=np.where(np.isnan(data2),mean,data2) #selects elements which are np.nan and changes them to the mean value of the column they are in, otherwise it leaves them as they are\n",
    "print(\"Number of np.nan:\", np.sum(np.isnan(data3)))\n"
   ],
   "id": "5c2508d3d516e3df",
   "outputs": [
    {
     "name": "stdout",
     "output_type": "stream",
     "text": [
      "3.\n",
      "Mean: [50.28660496 48.87570948 49.59685323 49.14770184 49.06888848 50.28646147\n",
      " 50.94808027 49.25024608 49.76977519 50.4379898 ]\n",
      "Number of np.nan: 0\n"
     ]
    }
   ],
   "execution_count": 164
  },
  {
   "metadata": {
    "ExecuteTime": {
     "end_time": "2025-10-19T21:08:54.159817Z",
     "start_time": "2025-10-19T21:08:54.152182Z"
    }
   },
   "cell_type": "code",
   "source": [
    "print(\"4.\")\n",
    "mu=np.mean(data3, axis=0)\n",
    "sd=np.std(data3, axis=0)\n",
    "stdata=(data3 - mu)/sd #takes elements within each column minus the mean of the column and divides them by the columns standard deviation\n",
    "print(\"Mean:\",np.round(np.mean(stdata,axis=0)) ,\"\\nStd:\", np.round(np.std(stdata,axis=0))) #check for standardization\n",
    "mask= stdata>0 #identifies positive numbers\n",
    "sqrdata=stdata.copy()   #makes copy to keep negative numbers unchanged\n",
    "sqrdata[mask]=np.sqrt(stdata[mask]) #does a square root of only positive numbers\n",
    "exp=np.exp(stdata[0:5]) # transforms first five rows with exponential function\n",
    "print(\"Exponential transformation:\\n\",exp)"
   ],
   "id": "1d737894de2e6626",
   "outputs": [
    {
     "name": "stdout",
     "output_type": "stream",
     "text": [
      "4.\n",
      "Mean: [-0.  0. -0. -0.  0. -0.  0. -0.  0.  0.] \n",
      "Std: [1. 1. 1. 1. 1. 1. 1. 1. 1. 1.]\n",
      "Exponential transformation:\n",
      " [[ 1.13810955  0.32070117  1.7676492   1.4417834   2.92209738  1.52890718\n",
      "   2.79099809  2.49732873  1.2963969   1.71019331]\n",
      " [ 1.58367277  0.73153897  0.75592331  5.62089792  0.93892607  0.17764467\n",
      "  10.11290528  1.13784598  1.16823195  1.60928925]\n",
      " [ 0.112728    0.70064     0.33910238  0.85820152  1.39919166  7.49305817\n",
      "   2.58421312  0.82954504  1.4467433   2.04301681]\n",
      " [ 2.83176845  0.30357884  1.14774076  3.00033662  1.92876165  0.43292044\n",
      "   0.39585771  0.43018415  0.30676776  2.3530189 ]\n",
      " [ 9.61271962  0.3181579   1.40145161  0.86979515  1.01745358  0.78389232\n",
      "   0.34016219  0.3469123   1.0283268   1.36338968]]\n"
     ]
    }
   ],
   "execution_count": 167
  },
  {
   "metadata": {
    "ExecuteTime": {
     "end_time": "2025-10-19T20:37:25.106156Z",
     "start_time": "2025-10-19T20:37:25.096602Z"
    }
   },
   "cell_type": "code",
   "source": [
    "print(\"5.\")\n",
    "per75=np.percentile(stdata, 75, axis=0)\n",
    "mask1=stdata > per75 #identifies which numbers are greater than the 75th percentile of each column\n",
    "print(\"Number of elements over 75th percentile:\", np.sum(mask1))\n",
    "per25=np.percentile(stdata, 25, axis=0)\n",
    "cleandata=np.where(stdata>=per25,stdata,per25)  #selects elements greater or equal to 25th percentile and keeps them as they are otherwise it changes them to the percentile"
   ],
   "id": "74b89c78ac6412e1",
   "outputs": [
    {
     "name": "stdout",
     "output_type": "stream",
     "text": [
      "5.\n",
      "Number of np.nan: 250\n"
     ]
    }
   ],
   "execution_count": 104
  },
  {
   "metadata": {
    "ExecuteTime": {
     "end_time": "2025-10-19T20:45:25.016383Z",
     "start_time": "2025-10-19T20:45:24.998416Z"
    }
   },
   "cell_type": "code",
   "source": [
    "print(\"6.\")\n",
    "print(\"Mean columnwise:\",np.mean(cleandata,axis=0))\n",
    "print(\"Median columnwise:\",np.median(cleandata, axis=0))\n",
    "print(\"Variance columnwise:\",np.var(cleandata, axis=0))\n",
    "print(\"Standard deviation columnwise:\",np.std(cleandata, axis=0))\n",
    "print(\"Overall mean:\",np.mean(cleandata))\n",
    "print(\"Minimum:\",np.min(cleandata, axis=0))\n",
    "print(\"Maximum:\",np.max(cleandata, axis=0))"
   ],
   "id": "74567a56006ad424",
   "outputs": [
    {
     "name": "stdout",
     "output_type": "stream",
     "text": [
      "6.\n",
      "Mean columnwise: [0.15952764 0.18025075 0.13981595 0.1316201  0.1635194  0.16787743\n",
      " 0.14711571 0.13029384 0.12452091 0.18706815]\n",
      "Median columnwise: [ 0.01999125  0.09403072 -0.09043552  0.0156995   0.03201064  0.12233233\n",
      "  0.04647822 -0.08459414 -0.04512514  0.21095125]\n",
      "Variance columnwise: [0.62075793 0.53722966 0.66359248 0.68251318 0.58939338 0.56147486\n",
      " 0.64365642 0.69386326 0.65427949 0.52368785]\n",
      "Standard deviation columnwise: [0.78788192 0.73295952 0.81461186 0.82614356 0.7677196  0.74931626\n",
      " 0.80228201 0.83298455 0.80887545 0.7236628 ]\n",
      "Overall mean: 0.1531609885328299\n",
      "Minimum: [-0.60356312 -0.63751785 -0.70073975 -0.70584289 -0.68150956 -0.67937804\n",
      " -0.70785949 -0.71276659 -0.78920604 -0.63604677]\n",
      "Maximum: [2.87661872 2.3695718  2.62353375 2.59999159 2.03579319 1.92327855\n",
      " 2.50312998 2.46337763 2.40840453 2.83622975]\n"
     ]
    }
   ],
   "execution_count": 107
  }
 ],
 "metadata": {
  "kernelspec": {
   "display_name": "Python 3",
   "language": "python",
   "name": "python3"
  },
  "language_info": {
   "codemirror_mode": {
    "name": "ipython",
    "version": 2
   },
   "file_extension": ".py",
   "mimetype": "text/x-python",
   "name": "python",
   "nbconvert_exporter": "python",
   "pygments_lexer": "ipython2",
   "version": "2.7.6"
  }
 },
 "nbformat": 4,
 "nbformat_minor": 5
}
